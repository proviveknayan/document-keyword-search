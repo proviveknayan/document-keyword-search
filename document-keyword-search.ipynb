{
 "cells": [
  {
   "cell_type": "code",
   "execution_count": 1,
   "id": "2ae306e8-a617-4202-bab1-fa58a9540e59",
   "metadata": {},
   "outputs": [],
   "source": [
    "import fitz\n",
    "import os\n",
    "import glob"
   ]
  },
  {
   "cell_type": "code",
   "execution_count": 4,
   "id": "79961ed2-3446-4477-b19c-23a6d1ed794c",
   "metadata": {},
   "outputs": [
    {
     "name": "stdout",
     "output_type": "stream",
     "text": [
      "A study of South Asian countries of Bangladesh, India, Nepal, Pakistan and Sri Lanka.pdf -> {'sdg 1': 4, 'sdg 4': 2, 'sdg 8': 8}\n",
      "Annihilate Caste and Structural Inequalities in Implementing the 2030 Agenda.pdf -> {}\n",
      "Communities Discriminated on Work and Descent in Modern Slavery - A Global Phenomenon.pdf -> {'sdg 8': 3}\n",
      "Dalit Women in South Asia - Access to Economic Rights Focus on Land Higher Education and Employable Skills for Livelihood.pdf -> {}\n",
      "Discrimination Based on Work and Descent and Untouchability - Global Profile and a Common Framework to Eliminate the Practice.pdf -> {}\n",
      "gfod-doc.pdf -> {'sdg 1': 4, 'sdg 4': 2, 'sdg 8': 8}\n",
      "Impact and Resilience in COVID-19 Pandemic - Analysis of Dalit Communities in Nepal.pdf -> {}\n",
      "SDG 10.2 Report - Empowering People and Ensuring Inclusiveness and Equality.pdf -> {'sdg1': 7, 'sdg4': 2, 'sdg8': 5, 'sdg10': 5, 'sdg16': 2, 'sdg 1': 10, 'sdg 4': 2, 'sdg 8': 2, 'sdg 10': 10}\n",
      "Towards a Unifying Global Identity - A Framework on Discrimination Based on Work and Descent Including Caste.pdf -> {}\n",
      "UN Mechanisms and Caste - Discrimination Based on Work and Descent.pdf -> {}\n"
     ]
    }
   ],
   "source": [
    "for pdfFiles in glob.glob('*.pdf'):\n",
    "    document = fitz.open(pdfFiles)\n",
    "    documentPageNumber = document.page_count\n",
    "    keywordsToSearch = open('categories.txt', 'r')\n",
    "    keywordList = keywordsToSearch.read()\n",
    "    keywordsSeperated = keywordList.split(',')\n",
    "    keys = {}\n",
    "    for keywords in keywordsSeperated:\n",
    "        c=0\n",
    "        for page in range(0, documentPageNumber):\n",
    "            content = document[page]\n",
    "            keywordPattern = keywords.strip()\n",
    "            keywordSearch = content.search_for(keywordPattern)\n",
    "            for key in keywordSearch:\n",
    "                c+=1\n",
    "            if c>1:\n",
    "                keys[keywords]=c\n",
    "    if len(keys)>0:\n",
    "        print(pdfFiles, '->', keys)\n",
    "        output = open('keyword_dataset.csv', 'a')\n",
    "        output.write(pdfFiles + '\\t' + str(keys) + '\\n')\n",
    "    else:\n",
    "        print(pdfFiles, '->', keys)\n",
    "        output = open('keyword_dataset.csv', 'a')\n",
    "        output.write(pdfFiles + '\\t' + 'Image Format OR No Keywords Found' + '\\n')\n",
    "    "
   ]
  },
  {
   "cell_type": "code",
   "execution_count": null,
   "id": "036d7b92-66fa-4eb7-817c-90f5ad701b09",
   "metadata": {},
   "outputs": [],
   "source": []
  }
 ],
 "metadata": {
  "kernelspec": {
   "display_name": "Python 3 (ipykernel)",
   "language": "python",
   "name": "python3"
  },
  "language_info": {
   "codemirror_mode": {
    "name": "ipython",
    "version": 3
   },
   "file_extension": ".py",
   "mimetype": "text/x-python",
   "name": "python",
   "nbconvert_exporter": "python",
   "pygments_lexer": "ipython3",
   "version": "3.11.4"
  }
 },
 "nbformat": 4,
 "nbformat_minor": 5
}
